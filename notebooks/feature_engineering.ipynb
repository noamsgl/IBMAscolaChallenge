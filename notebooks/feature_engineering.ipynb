{
 "cells": [
  {
   "cell_type": "markdown",
   "metadata": {
    "pycharm": {
     "name": "#%% md\n"
    }
   },
   "source": [
    "# Load Data "
   ]
  },
  {
   "cell_type": "code",
   "execution_count": 1,
   "metadata": {
    "pycharm": {
     "name": "#%%\n"
    }
   },
   "outputs": [],
   "source": [
    "import matplotlib.pyplot as plt\n",
    "import pandas as pd\n",
    "import seaborn as sns\n",
    "import numpy as np\n",
    "from ipywidgets import interact, interactive, fixed, interact_manual, FloatSlider, Layout\n",
    "import ipywidgets as widgets\n",
    "sns.set(style='whitegrid', palette='deep', font_scale=1.1, rc={'figure.figsize': [8, 5]})\n",
    "plt.rcParams['figure.figsize'] = [12, 8]\n",
    "\n",
    "\n",
    "# load dataframe\n",
    "filepath = \"../datasets/AllErrors/U3_5.csv\"\n",
    "df = pd.read_csv(filepath)\n",
    "\n",
    "# reorder columns\n",
    "df = df[['theta', 'phi', 'lam', 'E', 'depol_prob', 't1', 't2', 'population', 'p0_0', 'p0_1', 'p1_0', 'p1_1']]\n",
    "\n",
    "# filters\n",
    "labels = ['theta', 'phi', 'lam', 'E']\n",
    "depol_columns = ['depol_prob']\n",
    "thermal_columns = ['t1', 't2', 'population']\n",
    "readout_columns = ['p0_0', 'p0_1', 'p1_0', 'p1_1']\n",
    "\n",
    "# filtered dataframes\n",
    "ideal_only = df.query('depol_prob == 0 & t1 == inf & t2 == inf & p0_0 == 1 & p1_1 == 1')"
   ]
  },
  {
   "cell_type": "code",
   "execution_count": 2,
   "metadata": {},
   "outputs": [
    {
     "data": {
      "text/plain": "            theta       phi       lam         E  depol_prob        t1  \\\n0        0.000000  0.000000  0.000000  0.062744     0.00000   34000.0   \n1        0.000000  0.000000  0.000000  0.060059     0.00025   34000.0   \n2        0.000000  0.000000  0.000000  0.055176     0.00050   34000.0   \n3        0.000000  0.000000  0.000000  0.058594     0.00075   34000.0   \n4        0.000000  0.000000  0.000000  0.061523     0.00100   34000.0   \n...           ...       ...       ...       ...         ...       ...   \n1953120  6.283185  6.283185  6.283185  0.000000     0.00000  190000.0   \n1953121  6.283185  6.283185  6.283185  0.000000     0.00025  190000.0   \n1953122  6.283185  6.283185  6.283185  0.000000     0.00050  190000.0   \n1953123  6.283185  6.283185  6.283185  0.000000     0.00075  190000.0   \n1953124  6.283185  6.283185  6.283185  0.000000     0.00100  190000.0   \n\n                    t2  population  p0_0  p0_1  p1_0  p1_1  \n0          6071.428571         0.0  0.94  0.06  0.06  0.94  \n1          6071.428571         0.0  0.94  0.06  0.06  0.94  \n2          6071.428571         0.0  0.94  0.06  0.06  0.94  \n3          6071.428571         0.0  0.94  0.06  0.06  0.94  \n4          6071.428571         0.0  0.94  0.06  0.06  0.94  \n...                ...         ...   ...   ...   ...   ...  \n1953120  292307.692308         1.0  1.00  0.00  0.00  1.00  \n1953121  292307.692308         1.0  1.00  0.00  0.00  1.00  \n1953122  292307.692308         1.0  1.00  0.00  0.00  1.00  \n1953123  292307.692308         1.0  1.00  0.00  0.00  1.00  \n1953124  292307.692308         1.0  1.00  0.00  0.00  1.00  \n\n[1953125 rows x 12 columns]",
      "text/html": "<div>\n<style scoped>\n    .dataframe tbody tr th:only-of-type {\n        vertical-align: middle;\n    }\n\n    .dataframe tbody tr th {\n        vertical-align: top;\n    }\n\n    .dataframe thead th {\n        text-align: right;\n    }\n</style>\n<table border=\"1\" class=\"dataframe\">\n  <thead>\n    <tr style=\"text-align: right;\">\n      <th></th>\n      <th>theta</th>\n      <th>phi</th>\n      <th>lam</th>\n      <th>E</th>\n      <th>depol_prob</th>\n      <th>t1</th>\n      <th>t2</th>\n      <th>population</th>\n      <th>p0_0</th>\n      <th>p0_1</th>\n      <th>p1_0</th>\n      <th>p1_1</th>\n    </tr>\n  </thead>\n  <tbody>\n    <tr>\n      <th>0</th>\n      <td>0.000000</td>\n      <td>0.000000</td>\n      <td>0.000000</td>\n      <td>0.062744</td>\n      <td>0.00000</td>\n      <td>34000.0</td>\n      <td>6071.428571</td>\n      <td>0.0</td>\n      <td>0.94</td>\n      <td>0.06</td>\n      <td>0.06</td>\n      <td>0.94</td>\n    </tr>\n    <tr>\n      <th>1</th>\n      <td>0.000000</td>\n      <td>0.000000</td>\n      <td>0.000000</td>\n      <td>0.060059</td>\n      <td>0.00025</td>\n      <td>34000.0</td>\n      <td>6071.428571</td>\n      <td>0.0</td>\n      <td>0.94</td>\n      <td>0.06</td>\n      <td>0.06</td>\n      <td>0.94</td>\n    </tr>\n    <tr>\n      <th>2</th>\n      <td>0.000000</td>\n      <td>0.000000</td>\n      <td>0.000000</td>\n      <td>0.055176</td>\n      <td>0.00050</td>\n      <td>34000.0</td>\n      <td>6071.428571</td>\n      <td>0.0</td>\n      <td>0.94</td>\n      <td>0.06</td>\n      <td>0.06</td>\n      <td>0.94</td>\n    </tr>\n    <tr>\n      <th>3</th>\n      <td>0.000000</td>\n      <td>0.000000</td>\n      <td>0.000000</td>\n      <td>0.058594</td>\n      <td>0.00075</td>\n      <td>34000.0</td>\n      <td>6071.428571</td>\n      <td>0.0</td>\n      <td>0.94</td>\n      <td>0.06</td>\n      <td>0.06</td>\n      <td>0.94</td>\n    </tr>\n    <tr>\n      <th>4</th>\n      <td>0.000000</td>\n      <td>0.000000</td>\n      <td>0.000000</td>\n      <td>0.061523</td>\n      <td>0.00100</td>\n      <td>34000.0</td>\n      <td>6071.428571</td>\n      <td>0.0</td>\n      <td>0.94</td>\n      <td>0.06</td>\n      <td>0.06</td>\n      <td>0.94</td>\n    </tr>\n    <tr>\n      <th>...</th>\n      <td>...</td>\n      <td>...</td>\n      <td>...</td>\n      <td>...</td>\n      <td>...</td>\n      <td>...</td>\n      <td>...</td>\n      <td>...</td>\n      <td>...</td>\n      <td>...</td>\n      <td>...</td>\n      <td>...</td>\n    </tr>\n    <tr>\n      <th>1953120</th>\n      <td>6.283185</td>\n      <td>6.283185</td>\n      <td>6.283185</td>\n      <td>0.000000</td>\n      <td>0.00000</td>\n      <td>190000.0</td>\n      <td>292307.692308</td>\n      <td>1.0</td>\n      <td>1.00</td>\n      <td>0.00</td>\n      <td>0.00</td>\n      <td>1.00</td>\n    </tr>\n    <tr>\n      <th>1953121</th>\n      <td>6.283185</td>\n      <td>6.283185</td>\n      <td>6.283185</td>\n      <td>0.000000</td>\n      <td>0.00025</td>\n      <td>190000.0</td>\n      <td>292307.692308</td>\n      <td>1.0</td>\n      <td>1.00</td>\n      <td>0.00</td>\n      <td>0.00</td>\n      <td>1.00</td>\n    </tr>\n    <tr>\n      <th>1953122</th>\n      <td>6.283185</td>\n      <td>6.283185</td>\n      <td>6.283185</td>\n      <td>0.000000</td>\n      <td>0.00050</td>\n      <td>190000.0</td>\n      <td>292307.692308</td>\n      <td>1.0</td>\n      <td>1.00</td>\n      <td>0.00</td>\n      <td>0.00</td>\n      <td>1.00</td>\n    </tr>\n    <tr>\n      <th>1953123</th>\n      <td>6.283185</td>\n      <td>6.283185</td>\n      <td>6.283185</td>\n      <td>0.000000</td>\n      <td>0.00075</td>\n      <td>190000.0</td>\n      <td>292307.692308</td>\n      <td>1.0</td>\n      <td>1.00</td>\n      <td>0.00</td>\n      <td>0.00</td>\n      <td>1.00</td>\n    </tr>\n    <tr>\n      <th>1953124</th>\n      <td>6.283185</td>\n      <td>6.283185</td>\n      <td>6.283185</td>\n      <td>0.000000</td>\n      <td>0.00100</td>\n      <td>190000.0</td>\n      <td>292307.692308</td>\n      <td>1.0</td>\n      <td>1.00</td>\n      <td>0.00</td>\n      <td>0.00</td>\n      <td>1.00</td>\n    </tr>\n  </tbody>\n</table>\n<p>1953125 rows × 12 columns</p>\n</div>"
     },
     "execution_count": 2,
     "metadata": {},
     "output_type": "execute_result"
    }
   ],
   "source": [
    "df"
   ]
  },
  {
   "cell_type": "code",
   "metadata": {
    "pycharm": {
     "name": "#%%\n"
    }
   },
   "source": [
    "# Explore Features"
   ],
   "execution_count": 3,
   "outputs": []
  },
  {
   "cell_type": "markdown",
   "metadata": {
    "pycharm": {
     "name": "#%% md\n"
    }
   },
   "source": [
    "\n",
    "### On a non-noisy dataset, what is the relationship between E and $\\lambda $ pivoted on $\\theta, \\phi$?\n",
    "\n",
    "There's no clear pattern for E as a function of lam.\n"
   ]
  },
  {
   "cell_type": "code",
   "execution_count": null,
   "metadata": {
    "pycharm": {
     "is_executing": true,
     "name": "#%%\n"
    },
    "scrolled": false
   },
   "outputs": [
    {
     "data": {
      "text/plain": "interactive(children=(FloatRangeSlider(value=(0.0, 6.283185307179586), description='theta_range', layout=Layou…",
      "application/vnd.jupyter.widget-view+json": {
       "version_major": 2,
       "version_minor": 0,
       "model_id": "276e8536ce9b47649a3c6d4e59daad41"
      }
     },
     "metadata": {},
     "output_type": "display_data"
    }
   ],
   "source": [
    "@interact\n",
    "def show_gates_more_than(theta_range=widgets.FloatRangeSlider(value=[0, 6.3], min = 0.0, max=2*np.pi, layout=Layout(width='80%')),\n",
    "                         lam_range=widgets.FloatRangeSlider(value=[0, 6.3], min = 0.0, max=2*np.pi, layout=Layout(width='80%')),\n",
    "                        phi_values=widgets.SelectMultiple(options=df['phi'].unique(), value=tuple(df['phi'].unique()))):\n",
    "    filtered = df.loc[(df['theta'].between(theta_range[0],theta_range[1])) & (df['lam'].between(lam_range[0],lam_range[1])) & (df['phi'].isin(phi_values))]\n",
    "    sns.scatterplot(x='theta', y='E', hue=\"lam\", data=filtered);"
   ]
  },
  {
   "cell_type": "markdown",
   "metadata": {
    "pycharm": {
     "name": "#%% md\n"
    }
   },
   "source": [
    "Heading"
   ]
  },
  {
   "cell_type": "code",
   "execution_count": null,
   "metadata": {
    "pycharm": {
     "is_executing": true,
     "name": "#%%\n"
    }
   },
   "outputs": [],
   "source": [
    "@interact\n",
    "def show_gates_more_than(theta_range=widgets.FloatRangeSlider(value=[2.2, 2.6], min = 0.0, max=2*np.pi, layout=Layout(width='80%')),\n",
    "                         lam_range=widgets.FloatRangeSlider(value=[0, 6.3], min = 0.0, max=2*np.pi, layout=Layout(width='80%')),\n",
    "                        phi_values=widgets.SelectMultiple(options=df['phi'].unique(), value=tuple(df['phi'].unique()))):\n",
    "    filtered = df.loc[(df['theta'].between(theta_range[0],theta_range[1])) & (df['lam'].between(lam_range[0],lam_range[1])) & (df['phi'].isin(phi_values))]\n",
    "    sns.scatterplot(x='theta', y='E', hue=\"lam\", data=filtered);"
   ]
  },
  {
   "cell_type": "markdown",
   "metadata": {
    "pycharm": {
     "name": "#%% md\n"
    }
   },
   "source": [
    "## Depolarization Errors\n",
    "\n",
    "How does depolarization error affect E as a function of theta"
   ]
  },
  {
   "cell_type": "code",
   "execution_count": null,
   "metadata": {
    "pycharm": {
     "is_executing": true
    },
    "scrolled": false
   },
   "outputs": [],
   "source": [
    "@interact\n",
    "def show_gates_more_than(theta_range=widgets.FloatRangeSlider(value=[2.2, 2.6], min = 0.0, max=2*np.pi, layout=Layout(width='80%')),\n",
    "                         lam_range=widgets.FloatRangeSlider(value=[0, 6.3], min = 0.0, max=2*np.pi, layout=Layout(width='80%')),\n",
    "                        phi_values=widgets.SelectMultiple(options=df['phi'].unique(), value=tuple(df['phi'].unique()))):\n",
    "    filtered = df.loc[(df['theta'].between(theta_range[0],theta_range[1])) & (df['lam'].between(lam_range[0],lam_range[1])) & (df['phi'].isin(phi_values))]\n",
    "    sns.scatterplot(x='theta', y='E', hue=\"lam\", data=filtered);"
   ]
  },
  {
   "cell_type": "markdown",
   "metadata": {
    "pycharm": {
     "name": "#%%\n"
    }
   },
   "source": [
    "## Depolarization Errors\n",
    "\n",
    "How does depolarization error affect E as a function of theta"
   ]
  },
  {
   "cell_type": "code",
   "execution_count": null,
   "metadata": {
    "pycharm": {
     "is_executing": true,
     "name": "#%%\n"
    },
    "scrolled": true
   },
   "outputs": [],
   "source": [
    "@interact\n",
    "def show_gates_more_than(\n",
    "theta_range=widgets.FloatRangeSlider(value=[0, 6.3], min = 0.0, max=2*np.pi, layout=Layout(width='80%'), description='theta_range'),\n",
    "lam_range=widgets.FloatRangeSlider(value=[0, 6.3], min = 0.0, max=2*np.pi, layout=Layout(width='80%'), description='lam_range'),\n",
    "phi_values=widgets.SelectMultiple(options=df['phi'].unique(), value=tuple(df['phi'].unique()), description='phi_values')):\n",
    "    filtered = df.loc[(df['p1_1'] == 1.0) & (df['theta'].between(theta_range[0],theta_range[1])) & (df['lam'].between(lam_range[0],lam_range[1])) & (df['phi'].isin(phi_values))]\n",
    "    display(theta_range, lam_range, phi_values);\n",
    "    return sns.scatterplot(x='theta', y='E', hue='p0_0', data=filtered);\n"
   ]
  }
 ],
 "metadata": {
  "kernelspec": {
   "display_name": "Python 3",
   "language": "python",
   "name": "python3"
  },
  "language_info": {
   "codemirror_mode": {
    "name": "ipython",
    "version": 3
   },
   "file_extension": ".py",
   "mimetype": "text/x-python",
   "name": "python",
   "nbconvert_exporter": "python",
   "pygments_lexer": "ipython3",
   "version": "3.7.7"
  },
  "toc": {
   "base_numbering": 1,
   "nav_menu": {},
   "number_sections": false,
   "sideBar": true,
   "skip_h1_title": true,
   "title_cell": "Table of Contents",
   "title_sidebar": "Contents",
   "toc_cell": false,
   "toc_position": {},
   "toc_section_display": true,
   "toc_window_display": false
  }
 },
 "nbformat": 4,
 "nbformat_minor": 1
}